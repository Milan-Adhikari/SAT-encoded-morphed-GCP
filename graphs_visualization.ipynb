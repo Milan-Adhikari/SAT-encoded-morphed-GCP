{
 "cells": [
  {
   "cell_type": "code",
   "execution_count": 10,
   "metadata": {},
   "outputs": [],
   "source": [
    "import matplotlib.pyplot as plt\n",
    "import networkx as nx\n",
    "import random"
   ]
  },
  {
   "cell_type": "markdown",
   "metadata": {},
   "source": [
    "This ipynb file helps to visualize the ring lattice, and the random graph used in the code.\n",
    "Also, this can help you to visualize how the graphs are morphed together"
   ]
  },
  {
   "cell_type": "code",
   "execution_count": 11,
   "metadata": {},
   "outputs": [],
   "source": [
    "def plot_graph(G):\n",
    "    \"\"\"Plot the graph.\"\"\"\n",
    "    pos = nx.spring_layout(G) # positions for all nodes\n",
    "    nx.draw(G, pos, with_labels=True, node_size=10, node_color='skyblue', edge_color='gray') # draw the graph\n",
    "    plt.show()\n",
    "\n",
    "def generate_ring_lattice(num_vertices=10, num_nearest_neighbors=2):\n",
    "    \"\"\"Generate a regular ring lattice with {num_vertices} vertices and {num_nearest_neighbors} nearest neighbors.\"\"\"\n",
    "    return nx.watts_strogatz_graph(num_vertices, num_nearest_neighbors, 0)\n",
    "\n",
    "def generate_random_graph(num_vertices=10, num_edges=15):\n",
    "    \"\"\"Generate a random graph with 10 vertices and 15 edges.\"\"\"\n",
    "    return nx.gnm_random_graph(num_vertices, num_edges) \n",
    "\n",
    "def morph_graphs(G1, G2, p):\n",
    "    \"\"\"Create a {p}-morph of G1 and G2.\"\"\"\n",
    "    V = set(G1.nodes())  # set of vertices in G1\n",
    "    E1 = set(G1.edges())  # set of edges in G1\n",
    "    E2 = set(G2.edges())  # set of edges in G2\n",
    "    # print(\"E1 edges \\n\", E1)\n",
    "    # print(\"E2 edges \\n\", E2)\n",
    "\n",
    "    E_common = E1 & E2  # edges common to both G1 and G2\n",
    "    E1_exclusive = list(E1 - E2)  # edges exclusive to G1\n",
    "    E2_exclusive = list(E2 - E1)  # edges exclusive to G2\n",
    "    # print(\"E_common edges \\n\", E_common)\n",
    "    # print(\"E1_exclusive edges \\n\", E1_exclusive)\n",
    "    # print(\"E2_exclusive edges \\n\", E2_exclusive)\n",
    "\n",
    "    # sample edges for the morph\n",
    "    E_from_G1 = random.sample(E1_exclusive, int(p * len(E1_exclusive)))\n",
    "    E_from_G2 = random.sample(E2_exclusive, int((1 - p) * len(E2_exclusive)))\n",
    "    # print(\"E_from_G1 edges \\n\", E_from_G1)\n",
    "    # print(\"E_from_G2 edges \\n\", E_from_G2)\n",
    "\n",
    "    # combine edges\n",
    "    E_morph = list(E_common) + E_from_G1 + E_from_G2\n",
    "    # print(\"E_morph edges \\n\", E_morph)\n",
    "    \n",
    "    # create the new graph with these edges and vertices\n",
    "    G_morph = nx.Graph()  # create an empty graph\n",
    "    G_morph.add_nodes_from(V)  # add the vertices\n",
    "    G_morph.add_edges_from(E_morph)  # add the edges\n",
    "\n",
    "    return G_morph"
   ]
  },
  {
   "cell_type": "code",
   "execution_count": null,
   "metadata": {},
   "outputs": [],
   "source": [
    "# generate a ring lattice \n",
    "num_vertices = 10\n",
    "num_nearest_neighbors = 2\n",
    "G_ring_lattice = generate_ring_lattice(num_vertices, num_nearest_neighbors)\n",
    "plot_graph(G_ring_lattice)  # plot the graph"
   ]
  },
  {
   "cell_type": "code",
   "execution_count": null,
   "metadata": {},
   "outputs": [],
   "source": [
    "# generate a random graph\n",
    "num_vertices = 10\n",
    "num_edges = 15\n",
    "G_random = generate_random_graph(num_vertices, num_edges)\n",
    "plot_graph(G_random) # plot the graph"
   ]
  },
  {
   "cell_type": "code",
   "execution_count": null,
   "metadata": {},
   "outputs": [],
   "source": [
    "# morph the two graphs\n",
    "probability_p = 0.1\n",
    "\n",
    "G_morph = morph_graphs(G_ring_lattice, G_random, probability_p)\n",
    "plot_graph(G_morph)"
   ]
  }
 ],
 "metadata": {
  "kernelspec": {
   "display_name": "env",
   "language": "python",
   "name": "python3"
  },
  "language_info": {
   "codemirror_mode": {
    "name": "ipython",
    "version": 3
   },
   "file_extension": ".py",
   "mimetype": "text/x-python",
   "name": "python",
   "nbconvert_exporter": "python",
   "pygments_lexer": "ipython3",
   "version": "3.12.2"
  }
 },
 "nbformat": 4,
 "nbformat_minor": 2
}
